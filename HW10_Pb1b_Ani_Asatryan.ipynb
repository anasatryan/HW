{
  "cells": [
    {
      "cell_type": "markdown",
      "metadata": {
        "id": "XD4IbuPus1PO"
      },
      "source": [
        "## Problem 1.\n",
        "### b."
      ]
    },
    {
      "cell_type": "code",
      "execution_count": null,
      "metadata": {
        "id": "XdxRrAX-s1Pd",
        "outputId": "e6d37caf-2322-436c-d54a-14a7ce2345e3"
      },
      "outputs": [
        {
          "data": {
            "text/plain": [
              "[<matplotlib.lines.Line2D at 0x21afc476730>]"
            ]
          },
          "execution_count": 2,
          "metadata": {},
          "output_type": "execute_result"
        },
        {
          "data": {
            "image/png": "[encoded data removed]",
            "text/plain": [
              "<Figure size 432x288 with 1 Axes>"
            ]
          },
          "metadata": {
            "needs_background": "light"
          },
          "output_type": "display_data"
        }
      ],
      "source": [
        "import numpy as np\n",
        "import matplotlib.pyplot as plt\n",
        "\n",
        "x = np.array([-3, 1, 0, 7])\n",
        "y = np.array([2, 4, -1, 3])\n",
        "n = 1\n",
        "\n",
        "coef = np.polyfit(x, y, n)\n",
        "yy = np.polyval(coef, x)\n",
        "plt.plot(x, yy)\n",
        "plt.plot(x, y, \"o\")"
      ]
    },
    {
      "cell_type": "code",
      "execution_count": null,
      "metadata": {
        "id": "L02mN6C3s1Pq"
      },
      "outputs": [],
      "source": [
        ""
      ]
    }
  ],
  "metadata": {
    "kernelspec": {
      "display_name": "Python 3",
      "language": "python",
      "name": "python3"
    },
    "language_info": {
      "codemirror_mode": {
        "name": "ipython",
        "version": 3
      },
      "file_extension": ".py",
      "mimetype": "text/x-python",
      "name": "python",
      "nbconvert_exporter": "python",
      "pygments_lexer": "ipython3",
      "version": "3.8.5"
    },
    "colab": {
      "name": "HW10_Pb1b_Ani Asatryan",
      "provenance": []
    }
  },
  "nbformat": 4,
  "nbformat_minor": 0
}