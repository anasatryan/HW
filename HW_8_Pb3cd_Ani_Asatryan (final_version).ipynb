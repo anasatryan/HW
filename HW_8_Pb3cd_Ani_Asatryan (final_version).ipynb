{
  "cells": [
    {
      "cell_type": "markdown",
      "metadata": {
        "id": "V5cPda-EJRmu"
      },
      "source": [
        "## Problem 3\n",
        "### c."
      ]
    },
    {
      "cell_type": "code",
      "execution_count": 2,
      "metadata": {
        "colab": {
          "base_uri": "https://localhost:8080/"
        },
        "id": "fgrZJhG3JRmz",
        "outputId": "4f9ef953-987a-40c9-db5b-57d3e9f141a0"
      },
      "outputs": [
        {
          "output_type": "execute_result",
          "data": {
            "text/plain": [
              "-1.9998693387574717"
            ]
          },
          "metadata": {},
          "execution_count": 2
        }
      ],
      "source": [
        "from sympy import *\n",
        "\n",
        "x = Symbol(\"x\")\n",
        "\n",
        "def gss(f, a, b, ro, epsilon):\n",
        "    \n",
        "    ff = lambdify(x, f)\n",
        "    \n",
        "    while abs(b - a) >= epsilon:\n",
        "        A = a + ro * (b - a)\n",
        "        B = b - ro * (b - a)\n",
        "        \n",
        "        if ff(A) < ff(B):\n",
        "            b = B\n",
        "        else:\n",
        "            a = A\n",
        "            \n",
        "    return (a + b) / 2\n",
        "\n",
        "gss(x ** 2 + 4 * x + 5, -3, 1, 1 / 4, 10 ** (-3))"
      ]
    },
    {
      "cell_type": "markdown",
      "metadata": {
        "id": "3Hk79VjHJRm0"
      },
      "source": [
        "### d."
      ]
    },
    {
      "cell_type": "code",
      "execution_count": 6,
      "metadata": {
        "id": "JaUSkvTxJRm2",
        "colab": {
          "base_uri": "https://localhost:8080/"
        },
        "outputId": "88a3a83c-bcd4-4426-98d4-c966ebd6ce09"
      },
      "outputs": [
        {
          "output_type": "execute_result",
          "data": {
            "text/plain": [
              "-1.9998269297282878"
            ]
          },
          "metadata": {},
          "execution_count": 6
        }
      ],
      "source": [
        "import math\n",
        "\n",
        "\n",
        "value1 = (math.sqrt(5) - 1) / 2  \n",
        "value2 = (3 - math.sqrt(5)) / 2\n",
        "\n",
        "def GSS_WITH_FUNCTION_EVALUATIONS(f, a, b, tol=1e-3):\n",
        "    f = lambdify(x, f)\n",
        "    (a, b) = (min(a, b), max(a, b))\n",
        "    h = b - a\n",
        "    if h <= tol:\n",
        "        return (a, b)\n",
        "\n",
        "    n = int(math.ceil(math.log(tol / h) / math.log(value1)))\n",
        "\n",
        "    c = a + value2 * h\n",
        "    d = a + value1 * h\n",
        "    F_C = f(c)\n",
        "    F_D = f(d)\n",
        "\n",
        "    for k in range(n-1):\n",
        "        if F_C < F_D:  \n",
        "            b = d\n",
        "            d = c\n",
        "            F_D = F_C\n",
        "            h = value1 * h\n",
        "            c = a + value2 * h\n",
        "            F_C = f(c)\n",
        "        else:\n",
        "            a = c\n",
        "            c = d\n",
        "            F_C = F_D\n",
        "            h = value1 * h\n",
        "            d = a + value1 * h\n",
        "            F_D = f(d)\n",
        "\n",
        "    if F_C < F_D:\n",
        "        return (a, d)\n",
        "    else:\n",
        "        return (c, b)\n",
        "\n",
        "vals = GSS_WITH_FUNCTION_EVALUATIONS(x ** 2 + 4 * x + 5, -3, 1)\n",
        "(vals[0] + vals[1]) / 2"
      ]
    }
  ],
  "metadata": {
    "kernelspec": {
      "display_name": "Python 3",
      "language": "python",
      "name": "python3"
    },
    "language_info": {
      "codemirror_mode": {
        "name": "ipython",
        "version": 3
      },
      "file_extension": ".py",
      "mimetype": "text/x-python",
      "name": "python",
      "nbconvert_exporter": "python",
      "pygments_lexer": "ipython3",
      "version": "3.8.5"
    },
    "colab": {
      "name": "HW_8_Pb3cd_Ani_Asatryan.ipynb",
      "provenance": [],
      "collapsed_sections": []
    }
  },
  "nbformat": 4,
  "nbformat_minor": 0
}