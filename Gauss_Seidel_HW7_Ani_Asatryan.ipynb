{
  "nbformat": 4,
  "nbformat_minor": 0,
  "metadata": {
    "colab": {
      "name": "Gauss_Seidel_HW7_Ani Asatryan.ipynb",
      "provenance": []
    },
    "kernelspec": {
      "name": "python3",
      "display_name": "Python 3"
    },
    "language_info": {
      "name": "python"
    }
  },
  "cells": [
    {
      "cell_type": "code",
      "source": [
        "import numpy as np\n",
        "\n",
        "def Gauss_Seidel(A, b, N):\n",
        " i = 0\n",
        " x0 = np.array([1, 1, 1])\n",
        " while (i < int(N)):\n",
        "  matrix_e = np.array([[5,0,0], [-2,4,0], [2,-2,5]])\n",
        "  matrix_e_inverse = np.linalg.inv(matrix_e)\n",
        "  r = b - np.dot(A, x0)\n",
        "  x1 = x0 + np.dot(matrix_e_inverse, r)\n",
        "  print (x1)\n",
        "  x0 = x1\n",
        "  i = i + 1\n",
        "\n",
        "def main():\n",
        "  A = np.array([\n",
        "    [5, -1, 3],\n",
        "    [-2, 4, -1],\n",
        "    [2, -2, 5]\n",
        "])\n",
        "  b = np.array([14, 2, 10])\n",
        "  N = input(\"Insert the number of iterations here:\")\n",
        "  Gauss_Seidel(A,b,N)\n",
        "\n",
        "main()"
      ],
      "metadata": {
        "colab": {
          "base_uri": "https://localhost:8080/"
        },
        "id": "SjLuCpDCX8Y6",
        "outputId": "8d9cd1c7-e62a-4196-b569-06344cd71a1a"
      },
      "execution_count": 17,
      "outputs": [
        {
          "output_type": "stream",
          "name": "stdout",
          "text": [
            "Insert the number of iterations here:15\n",
            "[2.4  1.95 1.82]\n",
            "[2.098  2.004  1.9624]\n",
            "[2.02336  2.00228  1.991568]\n",
            "[2.0055152  2.0006496  1.99805376]\n",
            "[2.00129766 2.00016227 1.99954584]\n",
            "[2.00030495 2.00003894 1.99989359]\n",
            "[2.00007163 2.00000921 1.99997503]\n",
            "[2.00001682 2.00000217 1.99999414]\n",
            "[2.00000395 2.00000051 1.99999862]\n",
            "[2.00000093 2.00000012 1.99999968]\n",
            "[2.00000022 2.00000003 1.99999992]\n",
            "[2.00000005 2.00000001 1.99999998]\n",
            "[2.00000001 2.         2.        ]\n",
            "[2. 2. 2.]\n",
            "[2. 2. 2.]\n"
          ]
        }
      ]
    }
  ]
}