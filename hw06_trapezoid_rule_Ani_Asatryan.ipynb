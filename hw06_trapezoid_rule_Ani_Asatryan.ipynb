{
  "nbformat": 4,
  "nbformat_minor": 0,
  "metadata": {
    "colab": {
      "name": "hw06_trapezoid rule_Ani Asatryan.ipynb",
      "provenance": [],
      "collapsed_sections": []
    },
    "kernelspec": {
      "name": "python3",
      "display_name": "Python 3"
    },
    "language_info": {
      "name": "python"
    }
  },
  "cells": [
    {
      "cell_type": "code",
      "execution_count": 2,
      "metadata": {
        "colab": {
          "base_uri": "https://localhost:8080/"
        },
        "id": "GsA5VWorqgkC",
        "outputId": "f0d91c0b-9d84-4064-e7eb-15cafa60bb43"
      },
      "outputs": [
        {
          "output_type": "stream",
          "name": "stdout",
          "text": [
            "For the function N1, n = 2 The Trapezoid rule is:  0.0 , while the error is: 0.0\n",
            "For the function N1, n = 4 The Trapezoid rule is:  3.487868498008632e-16 , while the error is: 3.487868498008632e-16\n",
            "For the function N1, n = 10 The Trapezoid rule is:  2.712786609562269e-16 , while the error is: 2.712786609562269e-16\n",
            "For the function N1, n = 20 The Trapezoid rule is:  2.386436340742748e-16 , while the error is: 2.386436340742748e-16\n",
            "For the function N1, n = 50 The Trapezoid rule is:  3.4166875082533534e-16 , while the error is: 3.4166875082533534e-16\n",
            "For the function N1, n = 100 The Trapezoid rule is:  -2.1138596957628074e-17 , while the error is: 2.1138596957628074e-17\n",
            "For the function N2, n = 2 The Trapezoid rule is:  0.0 , while the error is: 0.0\n",
            "For the function N2, n = 4 The Trapezoid rule is:  -1.4802973661668753e-16 , while the error is: 1.4802973661668753e-16\n",
            "For the function N2, n = 10 The Trapezoid rule is:  -1.9737298215558337e-16 , while the error is: 1.9737298215558337e-16\n",
            "For the function N2, n = 20 The Trapezoid rule is:  -4.674623261579606e-17 , while the error is: 4.674623261579606e-17\n",
            "For the function N2, n = 50 The Trapezoid rule is:  -7.431696981164313e-16 , while the error is: 7.431696981164313e-16\n",
            "For the function N2, n = 100 The Trapezoid rule is:  4.754894570111782e-16 , while the error is: 4.754894570111782e-16\n",
            "For the function N3, n = 2 The Trapezoid rule is:  -48.0 , while the error is: 32.0\n",
            "For the function N3, n = 4 The Trapezoid rule is:  -19.555555555555554 , while the error is: 3.5555555555555536\n",
            "For the function N3, n = 10 The Trapezoid rule is:  -16.39506172839506 , while the error is: 0.39506172839505993\n",
            "For the function N3, n = 20 The Trapezoid rule is:  -16.088642659279778 , while the error is: 0.08864265927977755\n",
            "For the function N3, n = 50 The Trapezoid rule is:  -16.01332778009163 , while the error is: 0.013327780091628938\n",
            "For the function N3, n = 100 The Trapezoid rule is:  -16.003264972961947 , while the error is: 0.0032649729619471657\n"
          ]
        }
      ],
      "source": [
        "import numpy as np\n",
        "\n",
        "def f1(x):\n",
        "    return np.cos(x)\n",
        "def f2(x):\n",
        "    return 3*x\n",
        "def f3(x):\n",
        "    return (x^3)-(3*(x^2)) \n",
        "\n",
        "def trapezoid_uniform(f, a, b, n):\n",
        "  h = (b - a) / (n-1)\n",
        "  x = np.linspace(a, b, n)\n",
        "  f = np.cos(x)\n",
        "  I_trap = (h/2)*(f[0] + 2 * sum(f[1:n-1]) + f[n-1])\n",
        "  return I_trap\n",
        "\n",
        "def trapezoid_uniform2(f, a, b, n):\n",
        "  h = (b - a) / (n-1)\n",
        "  x = np.linspace(a, b, n)\n",
        "  f = 3*x\n",
        "  I_trap2 = (h/2)*(f[0] + 2 * sum(f[1:n-1]) + f[n-1])\n",
        "  return I_trap2\n",
        "\n",
        "def trapezoid_uniform3(f, a, b, n):\n",
        "  h = (b - a) / (n-1)\n",
        "  x = np.linspace(a, b, n)\n",
        "  f = (x**3)-3*(x**2)\n",
        "  I_trap3 = (h/2)*(f[0] + 2 * sum(f[1:n-1]) + f[n-1])\n",
        "  return I_trap3\n",
        "\n",
        "def main():\n",
        "   n = [2,4,10,20,50,100]\n",
        "   for i in n:\n",
        "     exact = 0\n",
        "     I_trap = trapezoid_uniform(f1, 0, np.pi,i)\n",
        "     error_trap = exact - abs(I_trap)\n",
        "     print(\"For the function N1, n =\", i,\"The Trapezoid rule is: \", I_trap, \", while the error is:\", abs(error_trap))\n",
        "   for i in n:\n",
        "     exact2 = 0\n",
        "     I_trap2 = trapezoid_uniform2(f2, -1, 1,i)\n",
        "     error_trap2 = exact2 - abs(I_trap2)\n",
        "     print(\"For the function N2, n =\", i,\"The Trapezoid rule is: \", I_trap2, \", while the error is:\", abs(error_trap2))\n",
        "   for i in n:\n",
        "     exact3 = 16\n",
        "     I_trap3 = trapezoid_uniform3(f3, -2, 2,i)\n",
        "     error_trap3 = exact3 - abs(I_trap3)\n",
        "     print(\"For the function N3, n =\", i, \"The Trapezoid rule is: \", I_trap3,\", while the error is:\", abs(error_trap3))\n",
        "\n",
        "main() \n",
        "\n"
      ]
    }
  ]
}