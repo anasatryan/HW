{
  "nbformat": 4,
  "nbformat_minor": 0,
  "metadata": {
    "colab": {
      "name": "HW06_Simpson's rule_Ani Asatryan",
      "provenance": []
    },
    "kernelspec": {
      "name": "python3",
      "display_name": "Python 3"
    },
    "language_info": {
      "name": "python"
    }
  },
  "cells": [
    {
      "cell_type": "code",
      "execution_count": 2,
      "metadata": {
        "colab": {
          "base_uri": "https://localhost:8080/"
        },
        "id": "dmdMMi_Cja38",
        "outputId": "e0ce83c4-110a-487a-e995-0dc7e313c699"
      },
      "outputs": [
        {
          "output_type": "stream",
          "name": "stdout",
          "text": [
            "for the function N1, n = 2 The Simpson's rule is:  -0.5235987755982986 and the error is: 0.5235987755982986\n",
            "for the function N1, n = 4 The Simpson's rule is:  0.8692348910746192 and the error is: 0.8692348910746192\n",
            "for the function N1, n = 10 The Simpson's rule is:  0.5777873993993549 and the error is: 0.5777873993993549\n",
            "for the function N1, n = 20 The Simpson's rule is:  0.3077357223393706 and the error is: 0.3077357223393706\n",
            "for the function N1, n = 50 The Simpson's rule is:  0.12525065958789997 and the error is: 0.12525065958789997\n",
            "for the function N1, n = 100 The Simpson's rule is:  0.0627801875247626 and the error is: 0.0627801875247626\n",
            "for the function N2 n = 2 The Simpson's rule is:  1.0 and the error is: 1.0\n",
            "for the function N2 n = 4 The Simpson's rule is:  -1.25 and the error is: 1.25\n",
            "for the function N2 n = 10 The Simpson's rule is:  -0.92 and the error is: 0.92\n",
            "for the function N2 n = 20 The Simpson's rule is:  -0.53 and the error is: 0.53\n",
            "for the function N2 n = 50 The Simpson's rule is:  -0.22879999999999998 and the error is: 0.22879999999999998\n",
            "for the function N2 n = 100 The Simpson's rule is:  -0.1172 and the error is: 0.1172\n",
            "for the function N3, n = 2 The Simpson's rule is:  -18.666666666666664 and the error is: 2.6666666666666643\n",
            "for the function N3, n = 4 The Simpson's rule is:  -12.666666666666666 and the error is: 3.333333333333334\n",
            "for the function N3, n = 10 The Simpson's rule is:  -10.423466666666668 and the error is: 5.576533333333332\n",
            "for the function N3, n = 20 The Simpson's rule is:  -6.791466666666667 and the error is: 9.208533333333332\n",
            "for the function N3, n = 50 The Simpson's rule is:  -3.1767415466666664 and the error is: 12.823258453333334\n",
            "for the function N3, n = 100 The Simpson's rule is:  -1.6723063466666668 and the error is: 14.327693653333334\n"
          ]
        }
      ],
      "source": [
        "import numpy as np \n",
        "import math\n",
        "\n",
        "def simpson_uniform(f, a, b, n):\n",
        "    h=(b-a)/(2*n)\n",
        "    k=0\n",
        "    x=a + h\n",
        "    for i in (1,(n/2) + 1):\n",
        "        k += 4*f(x)\n",
        "        x += 2*h\n",
        "    x = a + 2*h\n",
        "    for i in (1,n/2):\n",
        "        k += 2*f(x)\n",
        "        x += 2*h\n",
        "    return (h/3)*(f(a)+f(b)+k)\n",
        "\n",
        "def f1(x):\n",
        "    return np.cos(x)\n",
        "def f2(x):\n",
        "    return 3*x\n",
        "def f3(x):\n",
        "    return (x**3)-3*(x**2)\n",
        "\n",
        "def main():\n",
        "   n = [2,4,10,20,50,100]\n",
        "   for i in n:\n",
        "     exact_1 = 0\n",
        "     err_1 = exact_1 - abs(simpson_uniform(f1, 0, np.pi,i))\n",
        "     print(\"For the function N1, n =\", i,\"The Simpson's rule is: \",simpson_uniform(f1, 0, np.pi,i), \"and the error is:\", abs(err_1))\n",
        "   for i in n:\n",
        "     exact_2 = 0\n",
        "     err_2 = exact_2 - abs(simpson_uniform(f2, -1, 1,i))\n",
        "     print(\"For the function N2 n =\", i,\"The Simpson's rule is: \", simpson_uniform(f2, -1, 1,i), \"and the error is:\", abs((err_2)))\n",
        "   for i in n:\n",
        "     exact_3 = 16\n",
        "     err_3 = exact_3 - abs(simpson_uniform(f3, -2, 2,i))\n",
        "     print(\"For the function N3, n =\", i, \"The Simpson's rule is: \", simpson_uniform(f3, -2, 2,i),\"and the error is:\", abs((err_3)))\n",
        "\n",
        "main() "
      ]
    }
  ]
}